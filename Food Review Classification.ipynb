{
 "cells": [
  {
   "cell_type": "code",
   "execution_count": 1,
   "metadata": {},
   "outputs": [],
   "source": [
    "import pandas as pd\n",
    "import numpy as np\n",
    "import matplotlib.pyplot as plt\n",
    "import seaborn as sns"
   ]
  },
  {
   "cell_type": "code",
   "execution_count": 2,
   "metadata": {},
   "outputs": [],
   "source": [
    "df = pd.read_csv(\"amazon-food-review.csv\")"
   ]
  },
  {
   "cell_type": "code",
   "execution_count": 3,
   "metadata": {},
   "outputs": [
    {
     "data": {
      "text/html": [
       "<div>\n",
       "<style scoped>\n",
       "    .dataframe tbody tr th:only-of-type {\n",
       "        vertical-align: middle;\n",
       "    }\n",
       "\n",
       "    .dataframe tbody tr th {\n",
       "        vertical-align: top;\n",
       "    }\n",
       "\n",
       "    .dataframe thead th {\n",
       "        text-align: right;\n",
       "    }\n",
       "</style>\n",
       "<table border=\"1\" class=\"dataframe\">\n",
       "  <thead>\n",
       "    <tr style=\"text-align: right;\">\n",
       "      <th></th>\n",
       "      <th>Id</th>\n",
       "      <th>ProductId</th>\n",
       "      <th>UserId</th>\n",
       "      <th>ProfileName</th>\n",
       "      <th>HelpfulnessNumerator</th>\n",
       "      <th>HelpfulnessDenominator</th>\n",
       "      <th>Score</th>\n",
       "      <th>Time</th>\n",
       "      <th>Summary</th>\n",
       "      <th>Text</th>\n",
       "    </tr>\n",
       "  </thead>\n",
       "  <tbody>\n",
       "    <tr>\n",
       "      <th>0</th>\n",
       "      <td>1</td>\n",
       "      <td>B001E4KFG0</td>\n",
       "      <td>A3SGXH7AUHU8GW</td>\n",
       "      <td>delmartian</td>\n",
       "      <td>1</td>\n",
       "      <td>1</td>\n",
       "      <td>5</td>\n",
       "      <td>1303862400</td>\n",
       "      <td>Good Quality Dog Food</td>\n",
       "      <td>I have bought several of the Vitality canned d...</td>\n",
       "    </tr>\n",
       "    <tr>\n",
       "      <th>1</th>\n",
       "      <td>2</td>\n",
       "      <td>B00813GRG4</td>\n",
       "      <td>A1D87F6ZCVE5NK</td>\n",
       "      <td>dll pa</td>\n",
       "      <td>0</td>\n",
       "      <td>0</td>\n",
       "      <td>1</td>\n",
       "      <td>1346976000</td>\n",
       "      <td>Not as Advertised</td>\n",
       "      <td>Product arrived labeled as Jumbo Salted Peanut...</td>\n",
       "    </tr>\n",
       "    <tr>\n",
       "      <th>2</th>\n",
       "      <td>3</td>\n",
       "      <td>B000LQOCH0</td>\n",
       "      <td>ABXLMWJIXXAIN</td>\n",
       "      <td>Natalia Corres \"Natalia Corres\"</td>\n",
       "      <td>1</td>\n",
       "      <td>1</td>\n",
       "      <td>4</td>\n",
       "      <td>1219017600</td>\n",
       "      <td>\"Delight\" says it all</td>\n",
       "      <td>This is a confection that has been around a fe...</td>\n",
       "    </tr>\n",
       "    <tr>\n",
       "      <th>3</th>\n",
       "      <td>4</td>\n",
       "      <td>B000UA0QIQ</td>\n",
       "      <td>A395BORC6FGVXV</td>\n",
       "      <td>Karl</td>\n",
       "      <td>3</td>\n",
       "      <td>3</td>\n",
       "      <td>2</td>\n",
       "      <td>1307923200</td>\n",
       "      <td>Cough Medicine</td>\n",
       "      <td>If you are looking for the secret ingredient i...</td>\n",
       "    </tr>\n",
       "    <tr>\n",
       "      <th>4</th>\n",
       "      <td>5</td>\n",
       "      <td>B006K2ZZ7K</td>\n",
       "      <td>A1UQRSCLF8GW1T</td>\n",
       "      <td>Michael D. Bigham \"M. Wassir\"</td>\n",
       "      <td>0</td>\n",
       "      <td>0</td>\n",
       "      <td>5</td>\n",
       "      <td>1350777600</td>\n",
       "      <td>Great taffy</td>\n",
       "      <td>Great taffy at a great price.  There was a wid...</td>\n",
       "    </tr>\n",
       "  </tbody>\n",
       "</table>\n",
       "</div>"
      ],
      "text/plain": [
       "   Id   ProductId          UserId                      ProfileName  \\\n",
       "0   1  B001E4KFG0  A3SGXH7AUHU8GW                       delmartian   \n",
       "1   2  B00813GRG4  A1D87F6ZCVE5NK                           dll pa   \n",
       "2   3  B000LQOCH0   ABXLMWJIXXAIN  Natalia Corres \"Natalia Corres\"   \n",
       "3   4  B000UA0QIQ  A395BORC6FGVXV                             Karl   \n",
       "4   5  B006K2ZZ7K  A1UQRSCLF8GW1T    Michael D. Bigham \"M. Wassir\"   \n",
       "\n",
       "   HelpfulnessNumerator  HelpfulnessDenominator  Score        Time  \\\n",
       "0                     1                       1      5  1303862400   \n",
       "1                     0                       0      1  1346976000   \n",
       "2                     1                       1      4  1219017600   \n",
       "3                     3                       3      2  1307923200   \n",
       "4                     0                       0      5  1350777600   \n",
       "\n",
       "                 Summary                                               Text  \n",
       "0  Good Quality Dog Food  I have bought several of the Vitality canned d...  \n",
       "1      Not as Advertised  Product arrived labeled as Jumbo Salted Peanut...  \n",
       "2  \"Delight\" says it all  This is a confection that has been around a fe...  \n",
       "3         Cough Medicine  If you are looking for the secret ingredient i...  \n",
       "4            Great taffy  Great taffy at a great price.  There was a wid...  "
      ]
     },
     "execution_count": 3,
     "metadata": {},
     "output_type": "execute_result"
    }
   ],
   "source": [
    "df.head()"
   ]
  },
  {
   "cell_type": "code",
   "execution_count": 4,
   "metadata": {},
   "outputs": [
    {
     "data": {
      "text/plain": [
       "(568454, 10)"
      ]
     },
     "execution_count": 4,
     "metadata": {},
     "output_type": "execute_result"
    }
   ],
   "source": [
    "df.shape"
   ]
  },
  {
   "cell_type": "code",
   "execution_count": null,
   "metadata": {},
   "outputs": [],
   "source": []
  },
  {
   "cell_type": "code",
   "execution_count": 5,
   "metadata": {},
   "outputs": [],
   "source": [
    "#1. Data Preparation"
   ]
  },
  {
   "cell_type": "code",
   "execution_count": 6,
   "metadata": {},
   "outputs": [],
   "source": [
    "df.columns = map(str.lower, df.columns)"
   ]
  },
  {
   "cell_type": "code",
   "execution_count": 7,
   "metadata": {},
   "outputs": [
    {
     "data": {
      "text/html": [
       "<div>\n",
       "<style scoped>\n",
       "    .dataframe tbody tr th:only-of-type {\n",
       "        vertical-align: middle;\n",
       "    }\n",
       "\n",
       "    .dataframe tbody tr th {\n",
       "        vertical-align: top;\n",
       "    }\n",
       "\n",
       "    .dataframe thead th {\n",
       "        text-align: right;\n",
       "    }\n",
       "</style>\n",
       "<table border=\"1\" class=\"dataframe\">\n",
       "  <thead>\n",
       "    <tr style=\"text-align: right;\">\n",
       "      <th></th>\n",
       "      <th>id</th>\n",
       "      <th>productid</th>\n",
       "      <th>userid</th>\n",
       "      <th>profilename</th>\n",
       "      <th>helpfulnessnumerator</th>\n",
       "      <th>helpfulnessdenominator</th>\n",
       "      <th>score</th>\n",
       "      <th>time</th>\n",
       "      <th>summary</th>\n",
       "      <th>text</th>\n",
       "    </tr>\n",
       "  </thead>\n",
       "  <tbody>\n",
       "    <tr>\n",
       "      <th>0</th>\n",
       "      <td>1</td>\n",
       "      <td>B001E4KFG0</td>\n",
       "      <td>A3SGXH7AUHU8GW</td>\n",
       "      <td>delmartian</td>\n",
       "      <td>1</td>\n",
       "      <td>1</td>\n",
       "      <td>5</td>\n",
       "      <td>1303862400</td>\n",
       "      <td>Good Quality Dog Food</td>\n",
       "      <td>I have bought several of the Vitality canned d...</td>\n",
       "    </tr>\n",
       "    <tr>\n",
       "      <th>1</th>\n",
       "      <td>2</td>\n",
       "      <td>B00813GRG4</td>\n",
       "      <td>A1D87F6ZCVE5NK</td>\n",
       "      <td>dll pa</td>\n",
       "      <td>0</td>\n",
       "      <td>0</td>\n",
       "      <td>1</td>\n",
       "      <td>1346976000</td>\n",
       "      <td>Not as Advertised</td>\n",
       "      <td>Product arrived labeled as Jumbo Salted Peanut...</td>\n",
       "    </tr>\n",
       "    <tr>\n",
       "      <th>2</th>\n",
       "      <td>3</td>\n",
       "      <td>B000LQOCH0</td>\n",
       "      <td>ABXLMWJIXXAIN</td>\n",
       "      <td>Natalia Corres \"Natalia Corres\"</td>\n",
       "      <td>1</td>\n",
       "      <td>1</td>\n",
       "      <td>4</td>\n",
       "      <td>1219017600</td>\n",
       "      <td>\"Delight\" says it all</td>\n",
       "      <td>This is a confection that has been around a fe...</td>\n",
       "    </tr>\n",
       "    <tr>\n",
       "      <th>3</th>\n",
       "      <td>4</td>\n",
       "      <td>B000UA0QIQ</td>\n",
       "      <td>A395BORC6FGVXV</td>\n",
       "      <td>Karl</td>\n",
       "      <td>3</td>\n",
       "      <td>3</td>\n",
       "      <td>2</td>\n",
       "      <td>1307923200</td>\n",
       "      <td>Cough Medicine</td>\n",
       "      <td>If you are looking for the secret ingredient i...</td>\n",
       "    </tr>\n",
       "    <tr>\n",
       "      <th>4</th>\n",
       "      <td>5</td>\n",
       "      <td>B006K2ZZ7K</td>\n",
       "      <td>A1UQRSCLF8GW1T</td>\n",
       "      <td>Michael D. Bigham \"M. Wassir\"</td>\n",
       "      <td>0</td>\n",
       "      <td>0</td>\n",
       "      <td>5</td>\n",
       "      <td>1350777600</td>\n",
       "      <td>Great taffy</td>\n",
       "      <td>Great taffy at a great price.  There was a wid...</td>\n",
       "    </tr>\n",
       "  </tbody>\n",
       "</table>\n",
       "</div>"
      ],
      "text/plain": [
       "   id   productid          userid                      profilename  \\\n",
       "0   1  B001E4KFG0  A3SGXH7AUHU8GW                       delmartian   \n",
       "1   2  B00813GRG4  A1D87F6ZCVE5NK                           dll pa   \n",
       "2   3  B000LQOCH0   ABXLMWJIXXAIN  Natalia Corres \"Natalia Corres\"   \n",
       "3   4  B000UA0QIQ  A395BORC6FGVXV                             Karl   \n",
       "4   5  B006K2ZZ7K  A1UQRSCLF8GW1T    Michael D. Bigham \"M. Wassir\"   \n",
       "\n",
       "   helpfulnessnumerator  helpfulnessdenominator  score        time  \\\n",
       "0                     1                       1      5  1303862400   \n",
       "1                     0                       0      1  1346976000   \n",
       "2                     1                       1      4  1219017600   \n",
       "3                     3                       3      2  1307923200   \n",
       "4                     0                       0      5  1350777600   \n",
       "\n",
       "                 summary                                               text  \n",
       "0  Good Quality Dog Food  I have bought several of the Vitality canned d...  \n",
       "1      Not as Advertised  Product arrived labeled as Jumbo Salted Peanut...  \n",
       "2  \"Delight\" says it all  This is a confection that has been around a fe...  \n",
       "3         Cough Medicine  If you are looking for the secret ingredient i...  \n",
       "4            Great taffy  Great taffy at a great price.  There was a wid...  "
      ]
     },
     "execution_count": 7,
     "metadata": {},
     "output_type": "execute_result"
    }
   ],
   "source": [
    "df.head()"
   ]
  },
  {
   "cell_type": "code",
   "execution_count": 8,
   "metadata": {},
   "outputs": [
    {
     "data": {
      "text/plain": [
       "id                         0\n",
       "productid                  0\n",
       "userid                     0\n",
       "profilename               16\n",
       "helpfulnessnumerator       0\n",
       "helpfulnessdenominator     0\n",
       "score                      0\n",
       "time                       0\n",
       "summary                   27\n",
       "text                       0\n",
       "dtype: int64"
      ]
     },
     "execution_count": 8,
     "metadata": {},
     "output_type": "execute_result"
    }
   ],
   "source": [
    "df.isna().sum()"
   ]
  },
  {
   "cell_type": "code",
   "execution_count": 9,
   "metadata": {},
   "outputs": [],
   "source": [
    "df = df[df.profilename.notna()]\n",
    "df = df[df.summary.notna()]"
   ]
  },
  {
   "cell_type": "code",
   "execution_count": 10,
   "metadata": {},
   "outputs": [
    {
     "data": {
      "text/plain": [
       "id                        0\n",
       "productid                 0\n",
       "userid                    0\n",
       "profilename               0\n",
       "helpfulnessnumerator      0\n",
       "helpfulnessdenominator    0\n",
       "score                     0\n",
       "time                      0\n",
       "summary                   0\n",
       "text                      0\n",
       "dtype: int64"
      ]
     },
     "execution_count": 10,
     "metadata": {},
     "output_type": "execute_result"
    }
   ],
   "source": [
    "df.isna().sum()"
   ]
  },
  {
   "cell_type": "code",
   "execution_count": 11,
   "metadata": {},
   "outputs": [
    {
     "data": {
      "text/plain": [
       "<matplotlib.axes._subplots.AxesSubplot at 0x1a210cedd0>"
      ]
     },
     "execution_count": 11,
     "metadata": {},
     "output_type": "execute_result"
    },
    {
     "data": {
      "image/png": "[encoded data removed]",
      "text/plain": [
       "<Figure size 432x288 with 1 Axes>"
      ]
     },
     "metadata": {
      "needs_background": "light"
     },
     "output_type": "display_data"
    }
   ],
   "source": [
    "sns.distplot(df.score)"
   ]
  },
  {
   "cell_type": "code",
   "execution_count": 12,
   "metadata": {},
   "outputs": [],
   "source": [
    "df.loc[(df.score == 5), 'target'] = 2 #class 2: good reviews\n",
    "df.loc[(df.score == 3) | (df.score == 4), 'target'] = 1 #class 1: so-so reviews, need further improvement\n",
    "df.loc[(df.score == 1) | (df.score == 2), 'target'] = 0 #class 0: bad reviews"
   ]
  },
  {
   "cell_type": "code",
   "execution_count": 13,
   "metadata": {},
   "outputs": [],
   "source": [
    "df.target = df.target.astype(int)"
   ]
  },
  {
   "cell_type": "code",
   "execution_count": 14,
   "metadata": {},
   "outputs": [],
   "source": [
    "df_new = df[['text', 'target']]\n",
    "df_new = df_new.sample(frac=1).reset_index(drop=True)\n",
    "df_new = df_new.iloc[:100000,:] #use 10k out of 550k rows to reduce runtime"
   ]
  },
  {
   "cell_type": "code",
   "execution_count": 15,
   "metadata": {},
   "outputs": [
    {
     "data": {
      "text/plain": [
       "<matplotlib.axes._subplots.AxesSubplot at 0x10ce6bcd0>"
      ]
     },
     "execution_count": 15,
     "metadata": {},
     "output_type": "execute_result"
    },
    {
     "data": {
      "image/png": "[encoded data removed]",
      "text/plain": [
       "<Figure size 432x288 with 1 Axes>"
      ]
     },
     "metadata": {
      "needs_background": "light"
     },
     "output_type": "display_data"
    }
   ],
   "source": [
    "sns.distplot(df_new.target)"
   ]
  },
  {
   "cell_type": "code",
   "execution_count": 16,
   "metadata": {},
   "outputs": [
    {
     "data": {
      "text/html": [
       "<div>\n",
       "<style scoped>\n",
       "    .dataframe tbody tr th:only-of-type {\n",
       "        vertical-align: middle;\n",
       "    }\n",
       "\n",
       "    .dataframe tbody tr th {\n",
       "        vertical-align: top;\n",
       "    }\n",
       "\n",
       "    .dataframe thead th {\n",
       "        text-align: right;\n",
       "    }\n",
       "</style>\n",
       "<table border=\"1\" class=\"dataframe\">\n",
       "  <thead>\n",
       "    <tr style=\"text-align: right;\">\n",
       "      <th></th>\n",
       "      <th>text</th>\n",
       "      <th>target</th>\n",
       "    </tr>\n",
       "  </thead>\n",
       "  <tbody>\n",
       "    <tr>\n",
       "      <th>0</th>\n",
       "      <td>I've tried all flavors of Primal Spirit Vegan ...</td>\n",
       "      <td>2</td>\n",
       "    </tr>\n",
       "    <tr>\n",
       "      <th>1</th>\n",
       "      <td>Well, it's finally happened...we couldn't make...</td>\n",
       "      <td>2</td>\n",
       "    </tr>\n",
       "    <tr>\n",
       "      <th>2</th>\n",
       "      <td>I heard this product worked miracles and it ha...</td>\n",
       "      <td>2</td>\n",
       "    </tr>\n",
       "    <tr>\n",
       "      <th>3</th>\n",
       "      <td>RECENTLY (Dec 09) found a superior pasta: La P...</td>\n",
       "      <td>2</td>\n",
       "    </tr>\n",
       "    <tr>\n",
       "      <th>4</th>\n",
       "      <td>#1-this stuff tastes great! (very fruity)&lt;br /...</td>\n",
       "      <td>2</td>\n",
       "    </tr>\n",
       "  </tbody>\n",
       "</table>\n",
       "</div>"
      ],
      "text/plain": [
       "                                                text  target\n",
       "0  I've tried all flavors of Primal Spirit Vegan ...       2\n",
       "1  Well, it's finally happened...we couldn't make...       2\n",
       "2  I heard this product worked miracles and it ha...       2\n",
       "3  RECENTLY (Dec 09) found a superior pasta: La P...       2\n",
       "4  #1-this stuff tastes great! (very fruity)<br /...       2"
      ]
     },
     "execution_count": 16,
     "metadata": {},
     "output_type": "execute_result"
    }
   ],
   "source": [
    "df_new.head()"
   ]
  },
  {
   "cell_type": "code",
   "execution_count": 17,
   "metadata": {},
   "outputs": [
    {
     "data": {
      "text/plain": [
       "(100000, 2)"
      ]
     },
     "execution_count": 17,
     "metadata": {},
     "output_type": "execute_result"
    }
   ],
   "source": [
    "df_new.shape"
   ]
  },
  {
   "cell_type": "code",
   "execution_count": null,
   "metadata": {},
   "outputs": [],
   "source": []
  },
  {
   "cell_type": "code",
   "execution_count": 18,
   "metadata": {},
   "outputs": [],
   "source": [
    "#2. Text Preprocessing (Lemmatize, No Punctuation & Stop words, Lowercase)\n",
    "#3. Text to squence + pad sequences (to equal length)\n",
    "#4. Modelling"
   ]
  },
  {
   "cell_type": "code",
   "execution_count": 19,
   "metadata": {},
   "outputs": [],
   "source": [
    "#2. Text Preprocessing"
   ]
  },
  {
   "cell_type": "code",
   "execution_count": 20,
   "metadata": {},
   "outputs": [],
   "source": [
    "import spacy\n",
    "\n",
    "nlp = spacy.load('en_core_web_sm', disable=['tagger', 'parser', 'ner'])"
   ]
  },
  {
   "cell_type": "code",
   "execution_count": 21,
   "metadata": {},
   "outputs": [],
   "source": [
    "df_new['lemma'] = df_new.text.apply(lambda row: ' '.join(str(word.lemma_) for word in nlp(row)))"
   ]
  },
  {
   "cell_type": "code",
   "execution_count": 22,
   "metadata": {},
   "outputs": [
    {
     "data": {
      "text/html": [
       "<div>\n",
       "<style scoped>\n",
       "    .dataframe tbody tr th:only-of-type {\n",
       "        vertical-align: middle;\n",
       "    }\n",
       "\n",
       "    .dataframe tbody tr th {\n",
       "        vertical-align: top;\n",
       "    }\n",
       "\n",
       "    .dataframe thead th {\n",
       "        text-align: right;\n",
       "    }\n",
       "</style>\n",
       "<table border=\"1\" class=\"dataframe\">\n",
       "  <thead>\n",
       "    <tr style=\"text-align: right;\">\n",
       "      <th></th>\n",
       "      <th>text</th>\n",
       "      <th>target</th>\n",
       "      <th>lemma</th>\n",
       "    </tr>\n",
       "  </thead>\n",
       "  <tbody>\n",
       "    <tr>\n",
       "      <th>0</th>\n",
       "      <td>I've tried all flavors of Primal Spirit Vegan ...</td>\n",
       "      <td>2</td>\n",
       "      <td>-PRON- have try all flavor of Primal Spirit Ve...</td>\n",
       "    </tr>\n",
       "    <tr>\n",
       "      <th>1</th>\n",
       "      <td>Well, it's finally happened...we couldn't make...</td>\n",
       "      <td>2</td>\n",
       "      <td>Well , -PRON- have finally happen ... we could...</td>\n",
       "    </tr>\n",
       "    <tr>\n",
       "      <th>2</th>\n",
       "      <td>I heard this product worked miracles and it ha...</td>\n",
       "      <td>2</td>\n",
       "      <td>I hear this product work miracle and it have p...</td>\n",
       "    </tr>\n",
       "    <tr>\n",
       "      <th>3</th>\n",
       "      <td>RECENTLY (Dec 09) found a superior pasta: La P...</td>\n",
       "      <td>2</td>\n",
       "      <td>RECENTLY ( Dec 09 ) find a superior pasta : La...</td>\n",
       "    </tr>\n",
       "    <tr>\n",
       "      <th>4</th>\n",
       "      <td>#1-this stuff tastes great! (very fruity)&lt;br /...</td>\n",
       "      <td>2</td>\n",
       "      <td># 1-this stuff taste great ! ( very fruity)&lt;br...</td>\n",
       "    </tr>\n",
       "  </tbody>\n",
       "</table>\n",
       "</div>"
      ],
      "text/plain": [
       "                                                text  target  \\\n",
       "0  I've tried all flavors of Primal Spirit Vegan ...       2   \n",
       "1  Well, it's finally happened...we couldn't make...       2   \n",
       "2  I heard this product worked miracles and it ha...       2   \n",
       "3  RECENTLY (Dec 09) found a superior pasta: La P...       2   \n",
       "4  #1-this stuff tastes great! (very fruity)<br /...       2   \n",
       "\n",
       "                                               lemma  \n",
       "0  -PRON- have try all flavor of Primal Spirit Ve...  \n",
       "1  Well , -PRON- have finally happen ... we could...  \n",
       "2  I hear this product work miracle and it have p...  \n",
       "3  RECENTLY ( Dec 09 ) find a superior pasta : La...  \n",
       "4  # 1-this stuff taste great ! ( very fruity)<br...  "
      ]
     },
     "execution_count": 22,
     "metadata": {},
     "output_type": "execute_result"
    }
   ],
   "source": [
    "df_new.head()"
   ]
  },
  {
   "cell_type": "code",
   "execution_count": 23,
   "metadata": {},
   "outputs": [],
   "source": [
    "df_new['no_punct'] = df_new.lemma.apply(lambda row: ' '.join(str(word) for word in nlp(row) if not word.is_punct))"
   ]
  },
  {
   "cell_type": "code",
   "execution_count": 24,
   "metadata": {},
   "outputs": [],
   "source": [
    "df_new['no_stop'] = df_new.no_punct.apply(lambda row: ' '.join(str(word) for word in nlp(row) if not word.is_stop))"
   ]
  },
  {
   "cell_type": "code",
   "execution_count": 25,
   "metadata": {},
   "outputs": [],
   "source": [
    "df_new['lowercase'] = df_new.no_stop.apply(lambda row: row.lower())"
   ]
  },
  {
   "cell_type": "code",
   "execution_count": 26,
   "metadata": {},
   "outputs": [],
   "source": [
    "df_new['final_text'] = df_new.lowercase"
   ]
  },
  {
   "cell_type": "code",
   "execution_count": 27,
   "metadata": {},
   "outputs": [
    {
     "data": {
      "text/html": [
       "<div>\n",
       "<style scoped>\n",
       "    .dataframe tbody tr th:only-of-type {\n",
       "        vertical-align: middle;\n",
       "    }\n",
       "\n",
       "    .dataframe tbody tr th {\n",
       "        vertical-align: top;\n",
       "    }\n",
       "\n",
       "    .dataframe thead th {\n",
       "        text-align: right;\n",
       "    }\n",
       "</style>\n",
       "<table border=\"1\" class=\"dataframe\">\n",
       "  <thead>\n",
       "    <tr style=\"text-align: right;\">\n",
       "      <th></th>\n",
       "      <th>text</th>\n",
       "      <th>target</th>\n",
       "      <th>lemma</th>\n",
       "      <th>no_punct</th>\n",
       "      <th>no_stop</th>\n",
       "      <th>lowercase</th>\n",
       "      <th>final_text</th>\n",
       "    </tr>\n",
       "  </thead>\n",
       "  <tbody>\n",
       "    <tr>\n",
       "      <th>0</th>\n",
       "      <td>I've tried all flavors of Primal Spirit Vegan ...</td>\n",
       "      <td>2</td>\n",
       "      <td>-PRON- have try all flavor of Primal Spirit Ve...</td>\n",
       "      <td>-PRON- have try all flavor of Primal Spirit Ve...</td>\n",
       "      <td>-PRON- try flavor Primal Spirit Vegan Jerky Me...</td>\n",
       "      <td>-pron- try flavor primal spirit vegan jerky me...</td>\n",
       "      <td>-pron- try flavor primal spirit vegan jerky me...</td>\n",
       "    </tr>\n",
       "    <tr>\n",
       "      <th>1</th>\n",
       "      <td>Well, it's finally happened...we couldn't make...</td>\n",
       "      <td>2</td>\n",
       "      <td>Well , -PRON- have finally happen ... we could...</td>\n",
       "      <td>Well -PRON- have finally happen we could not m...</td>\n",
       "      <td>-PRON- finally happen husband son favorite hol...</td>\n",
       "      <td>-pron- finally happen husband son favorite hol...</td>\n",
       "      <td>-pron- finally happen husband son favorite hol...</td>\n",
       "    </tr>\n",
       "    <tr>\n",
       "      <th>2</th>\n",
       "      <td>I heard this product worked miracles and it ha...</td>\n",
       "      <td>2</td>\n",
       "      <td>I hear this product work miracle and it have p...</td>\n",
       "      <td>I hear this product work miracle and it have p...</td>\n",
       "      <td>hear product work miracle prove     Yellow Lab...</td>\n",
       "      <td>hear product work miracle prove     yellow lab...</td>\n",
       "      <td>hear product work miracle prove     yellow lab...</td>\n",
       "    </tr>\n",
       "    <tr>\n",
       "      <th>3</th>\n",
       "      <td>RECENTLY (Dec 09) found a superior pasta: La P...</td>\n",
       "      <td>2</td>\n",
       "      <td>RECENTLY ( Dec 09 ) find a superior pasta : La...</td>\n",
       "      <td>RECENTLY Dec 09 find a superior pasta La Porta...</td>\n",
       "      <td>RECENTLY Dec 09 find superior pasta La Porta &lt;...</td>\n",
       "      <td>recently dec 09 find superior pasta la porta &lt;...</td>\n",
       "      <td>recently dec 09 find superior pasta la porta &lt;...</td>\n",
       "    </tr>\n",
       "    <tr>\n",
       "      <th>4</th>\n",
       "      <td>#1-this stuff tastes great! (very fruity)&lt;br /...</td>\n",
       "      <td>2</td>\n",
       "      <td># 1-this stuff taste great ! ( very fruity)&lt;br...</td>\n",
       "      <td>1-this stuff taste great very fruity)&lt;br /&gt;#2-...</td>\n",
       "      <td>1-this stuff taste great fruity)&lt;br /&gt;#2-great...</td>\n",
       "      <td>1-this stuff taste great fruity)&lt;br /&gt;#2-great...</td>\n",
       "      <td>1-this stuff taste great fruity)&lt;br /&gt;#2-great...</td>\n",
       "    </tr>\n",
       "  </tbody>\n",
       "</table>\n",
       "</div>"
      ],
      "text/plain": [
       "                                                text  target  \\\n",
       "0  I've tried all flavors of Primal Spirit Vegan ...       2   \n",
       "1  Well, it's finally happened...we couldn't make...       2   \n",
       "2  I heard this product worked miracles and it ha...       2   \n",
       "3  RECENTLY (Dec 09) found a superior pasta: La P...       2   \n",
       "4  #1-this stuff tastes great! (very fruity)<br /...       2   \n",
       "\n",
       "                                               lemma  \\\n",
       "0  -PRON- have try all flavor of Primal Spirit Ve...   \n",
       "1  Well , -PRON- have finally happen ... we could...   \n",
       "2  I hear this product work miracle and it have p...   \n",
       "3  RECENTLY ( Dec 09 ) find a superior pasta : La...   \n",
       "4  # 1-this stuff taste great ! ( very fruity)<br...   \n",
       "\n",
       "                                            no_punct  \\\n",
       "0  -PRON- have try all flavor of Primal Spirit Ve...   \n",
       "1  Well -PRON- have finally happen we could not m...   \n",
       "2  I hear this product work miracle and it have p...   \n",
       "3  RECENTLY Dec 09 find a superior pasta La Porta...   \n",
       "4  1-this stuff taste great very fruity)<br />#2-...   \n",
       "\n",
       "                                             no_stop  \\\n",
       "0  -PRON- try flavor Primal Spirit Vegan Jerky Me...   \n",
       "1  -PRON- finally happen husband son favorite hol...   \n",
       "2  hear product work miracle prove     Yellow Lab...   \n",
       "3  RECENTLY Dec 09 find superior pasta La Porta <...   \n",
       "4  1-this stuff taste great fruity)<br />#2-great...   \n",
       "\n",
       "                                           lowercase  \\\n",
       "0  -pron- try flavor primal spirit vegan jerky me...   \n",
       "1  -pron- finally happen husband son favorite hol...   \n",
       "2  hear product work miracle prove     yellow lab...   \n",
       "3  recently dec 09 find superior pasta la porta <...   \n",
       "4  1-this stuff taste great fruity)<br />#2-great...   \n",
       "\n",
       "                                          final_text  \n",
       "0  -pron- try flavor primal spirit vegan jerky me...  \n",
       "1  -pron- finally happen husband son favorite hol...  \n",
       "2  hear product work miracle prove     yellow lab...  \n",
       "3  recently dec 09 find superior pasta la porta <...  \n",
       "4  1-this stuff taste great fruity)<br />#2-great...  "
      ]
     },
     "execution_count": 27,
     "metadata": {},
     "output_type": "execute_result"
    }
   ],
   "source": [
    "df_new.head()"
   ]
  },
  {
   "cell_type": "code",
   "execution_count": null,
   "metadata": {},
   "outputs": [],
   "source": []
  },
  {
   "cell_type": "code",
   "execution_count": 28,
   "metadata": {},
   "outputs": [],
   "source": [
    "#3. Text to sequence "
   ]
  },
  {
   "cell_type": "code",
   "execution_count": 29,
   "metadata": {},
   "outputs": [],
   "source": [
    "from tensorflow.keras.preprocessing.text import Tokenizer\n",
    "\n",
    "vocab_size = 10000\n",
    "\n",
    "tokenizer = Tokenizer(num_words=vocab_size) \n",
    "tokenizer.fit_on_texts(df_new.final_text)\n",
    "sequences = tokenizer.texts_to_sequences(df_new.final_text)"
   ]
  },
  {
   "cell_type": "code",
   "execution_count": 30,
   "metadata": {},
   "outputs": [],
   "source": [
    "from tensorflow.keras.preprocessing.sequence import pad_sequences\n",
    "\n",
    "word_len = 50\n",
    "data = pad_sequences(sequences, maxlen = word_len, padding = 'post', truncating = 'post')"
   ]
  },
  {
   "cell_type": "code",
   "execution_count": null,
   "metadata": {},
   "outputs": [],
   "source": []
  },
  {
   "cell_type": "code",
   "execution_count": 31,
   "metadata": {},
   "outputs": [],
   "source": [
    "#Train test split"
   ]
  },
  {
   "cell_type": "code",
   "execution_count": 32,
   "metadata": {},
   "outputs": [],
   "source": [
    "from sklearn.model_selection import train_test_split\n",
    "x_train, x_test, y_train, y_test = train_test_split(data, df_new.target, test_size=0.3, \n",
    "                                                    shuffle=True, random_state=1024)"
   ]
  },
  {
   "cell_type": "code",
   "execution_count": null,
   "metadata": {},
   "outputs": [],
   "source": []
  },
  {
   "cell_type": "code",
   "execution_count": 33,
   "metadata": {},
   "outputs": [],
   "source": [
    "#4. Modelling"
   ]
  },
  {
   "cell_type": "code",
   "execution_count": 34,
   "metadata": {},
   "outputs": [],
   "source": [
    "import tensorflow"
   ]
  },
  {
   "cell_type": "code",
   "execution_count": 35,
   "metadata": {},
   "outputs": [],
   "source": [
    "from tensorflow.keras import Sequential\n",
    "from tensorflow.keras.layers import Embedding, Dense, Flatten, Dropout\n",
    "from tensorflow.keras.callbacks import EarlyStopping"
   ]
  },
  {
   "cell_type": "code",
   "execution_count": 36,
   "metadata": {},
   "outputs": [],
   "source": [
    "#4.1. MLP Model\n",
    "#4.1.1. MLP without Regularizer"
   ]
  },
  {
   "cell_type": "code",
   "execution_count": 37,
   "metadata": {
    "scrolled": true
   },
   "outputs": [
    {
     "name": "stdout",
     "output_type": "stream",
     "text": [
      "Epoch 1/100\n",
      "2188/2188 - 8s - loss: 0.6771 - accuracy: 0.7179 - val_loss: 0.6156 - val_accuracy: 0.7475\n",
      "Epoch 2/100\n",
      "2188/2188 - 8s - loss: 0.4796 - accuracy: 0.8098 - val_loss: 0.6334 - val_accuracy: 0.7497\n",
      "Epoch 3/100\n",
      "2188/2188 - 8s - loss: 0.2860 - accuracy: 0.8949 - val_loss: 0.7685 - val_accuracy: 0.7451\n",
      "Epoch 4/100\n",
      "2188/2188 - 8s - loss: 0.1591 - accuracy: 0.9463 - val_loss: 1.0013 - val_accuracy: 0.7309\n",
      "Epoch 5/100\n",
      "2188/2188 - 8s - loss: 0.0970 - accuracy: 0.9679 - val_loss: 1.2666 - val_accuracy: 0.7206\n",
      "Epoch 6/100\n",
      "2188/2188 - 8s - loss: 0.0671 - accuracy: 0.9780 - val_loss: 1.5129 - val_accuracy: 0.7193\n",
      "Epoch 7/100\n",
      "2188/2188 - 8s - loss: 0.0496 - accuracy: 0.9837 - val_loss: 1.6992 - val_accuracy: 0.7070\n",
      "Epoch 8/100\n",
      "2188/2188 - 8s - loss: 0.0388 - accuracy: 0.9876 - val_loss: 1.8949 - val_accuracy: 0.7138\n",
      "Epoch 9/100\n",
      "2188/2188 - 8s - loss: 0.0334 - accuracy: 0.9889 - val_loss: 1.9993 - val_accuracy: 0.7180\n",
      "Epoch 10/100\n",
      "2188/2188 - 8s - loss: 0.0272 - accuracy: 0.9909 - val_loss: 2.1825 - val_accuracy: 0.7168\n",
      "Epoch 11/100\n",
      "2188/2188 - 8s - loss: 0.0231 - accuracy: 0.9923 - val_loss: 2.3593 - val_accuracy: 0.7085\n",
      "2188/2188 [==============================] - ETA: 0s - loss: 0.0128 - accuracy: 0.99 - 2s 1ms/step - loss: 0.0128 - accuracy: 0.9963\n",
      "938/938 [==============================] - 1s 1ms/step - loss: 2.3593 - accuracy: 0.7085\n"
     ]
    },
    {
     "data": {
      "image/png": "[encoded data removed]",
      "text/plain": [
       "<Figure size 432x288 with 1 Axes>"
      ]
     },
     "metadata": {
      "needs_background": "light"
     },
     "output_type": "display_data"
    }
   ],
   "source": [
    "#Define\n",
    "\n",
    "model = Sequential()\n",
    "model.add(Embedding(vocab_size, 32, input_length=word_len))\n",
    "model.add(Flatten())\n",
    "model.add(Dense(16, activation = 'relu'))\n",
    "model.add(Dense(8, activation = 'relu'))\n",
    "model.add(Dense(3, activation = 'softmax'))\n",
    "\n",
    "#Compile\n",
    "\n",
    "model.compile(optimizer = 'adam', loss = 'sparse_categorical_crossentropy', metrics = ['accuracy'])\n",
    "\n",
    "#Fit \n",
    "es = EarlyStopping(monitor = 'val_loss', patience=10)\n",
    "history = model.fit(x_train, y_train, validation_data = (x_test, y_test), \n",
    "                    epochs=100, batch_size=32, verbose=2, callbacks = [es])\n",
    "\n",
    "#Evaluate\n",
    "loss_train, acc_train = model.evaluate(x_train, y_train)\n",
    "loss_test, acc_test = model.evaluate(x_test, y_test)\n",
    "\n",
    "#Plot the learning curve\n",
    "plt.plot(history.history['accuracy'])\n",
    "plt.plot(history.history['val_accuracy'])\n",
    "plt.legend(['Train Accuracy', 'Test Accuracy'])\n",
    "plt.show()"
   ]
  },
  {
   "cell_type": "code",
   "execution_count": null,
   "metadata": {},
   "outputs": [],
   "source": []
  },
  {
   "cell_type": "code",
   "execution_count": 38,
   "metadata": {},
   "outputs": [],
   "source": [
    "#4.1.2. MLP with Dropout"
   ]
  },
  {
   "cell_type": "code",
   "execution_count": 39,
   "metadata": {},
   "outputs": [
    {
     "name": "stdout",
     "output_type": "stream",
     "text": [
      "Epoch 1/100\n",
      "2188/2188 - 8s - loss: 0.7500 - accuracy: 0.6933 - val_loss: 0.6287 - val_accuracy: 0.7403\n",
      "Epoch 2/100\n",
      "2188/2188 - 8s - loss: 0.5428 - accuracy: 0.7840 - val_loss: 0.6294 - val_accuracy: 0.7455\n",
      "Epoch 3/100\n",
      "2188/2188 - 8s - loss: 0.3857 - accuracy: 0.8562 - val_loss: 0.6970 - val_accuracy: 0.7452\n",
      "Epoch 4/100\n",
      "2188/2188 - 8s - loss: 0.2587 - accuracy: 0.9087 - val_loss: 0.8598 - val_accuracy: 0.7357\n",
      "Epoch 5/100\n",
      "2188/2188 - 8s - loss: 0.1836 - accuracy: 0.9375 - val_loss: 0.9986 - val_accuracy: 0.7330\n",
      "Epoch 6/100\n",
      "2188/2188 - 8s - loss: 0.1382 - accuracy: 0.9532 - val_loss: 1.1995 - val_accuracy: 0.7215\n",
      "Epoch 7/100\n",
      "2188/2188 - 8s - loss: 0.1086 - accuracy: 0.9631 - val_loss: 1.3815 - val_accuracy: 0.7089\n",
      "Epoch 8/100\n",
      "2188/2188 - 8s - loss: 0.0891 - accuracy: 0.9701 - val_loss: 1.5206 - val_accuracy: 0.7137\n",
      "Epoch 9/100\n",
      "2188/2188 - 9s - loss: 0.0773 - accuracy: 0.9742 - val_loss: 1.6431 - val_accuracy: 0.7167\n",
      "Epoch 10/100\n",
      "2188/2188 - 9s - loss: 0.0670 - accuracy: 0.9778 - val_loss: 1.7570 - val_accuracy: 0.7104\n",
      "Epoch 11/100\n",
      "2188/2188 - 9s - loss: 0.0583 - accuracy: 0.9806 - val_loss: 1.8135 - val_accuracy: 0.7137\n",
      "2188/2188 [==============================] - 3s 1ms/step - loss: 0.0263 - accuracy: 0.9922: 0s - loss: 0.0260 - accuracy\n",
      "938/938 [==============================] - 1s 1ms/step - loss: 1.8135 - accuracy: 0.7137\n"
     ]
    },
    {
     "data": {
      "image/png": "[encoded data removed]",
      "text/plain": [
       "<Figure size 432x288 with 1 Axes>"
      ]
     },
     "metadata": {
      "needs_background": "light"
     },
     "output_type": "display_data"
    }
   ],
   "source": [
    "#Define\n",
    "\n",
    "model = Sequential()\n",
    "model.add(Embedding(vocab_size, 32, input_length=word_len))\n",
    "model.add(Flatten())\n",
    "model.add(Dense(16, activation = 'relu'))\n",
    "model.add(Dropout(0.2))\n",
    "model.add(Dense(8, activation = 'relu'))\n",
    "model.add(Dense(3, activation = 'softmax'))\n",
    "\n",
    "#Compile\n",
    "\n",
    "model.compile(optimizer = 'adam', loss = 'sparse_categorical_crossentropy', metrics = ['accuracy'])\n",
    "\n",
    "#Fit \n",
    "es = EarlyStopping(monitor = 'val_loss', patience=10)\n",
    "history = model.fit(x_train, y_train, validation_data = (x_test, y_test), \n",
    "                    epochs=100, batch_size=32, verbose=2, callbacks = [es])\n",
    "\n",
    "#Evaluate\n",
    "loss_train, acc_train = model.evaluate(x_train, y_train)\n",
    "loss_test, acc_test = model.evaluate(x_test, y_test)\n",
    "\n",
    "#Plot the learning curve\n",
    "plt.plot(history.history['accuracy'])\n",
    "plt.plot(history.history['val_accuracy'])\n",
    "plt.legend(['Train Accuracy', 'Test Accuracy'])\n",
    "plt.show()"
   ]
  },
  {
   "cell_type": "code",
   "execution_count": null,
   "metadata": {},
   "outputs": [],
   "source": []
  },
  {
   "cell_type": "code",
   "execution_count": 40,
   "metadata": {},
   "outputs": [],
   "source": [
    "#4.2. RNN Model"
   ]
  },
  {
   "cell_type": "code",
   "execution_count": 41,
   "metadata": {},
   "outputs": [],
   "source": [
    "from tensorflow.keras.layers import SimpleRNN, LSTM, GRU, Bidirectional"
   ]
  },
  {
   "cell_type": "code",
   "execution_count": 42,
   "metadata": {},
   "outputs": [],
   "source": [
    "#4.2.1. Simple RNN"
   ]
  },
  {
   "cell_type": "code",
   "execution_count": 43,
   "metadata": {},
   "outputs": [
    {
     "name": "stdout",
     "output_type": "stream",
     "text": [
      "Epoch 1/100\n",
      "2188/2188 - 34s - loss: 0.8987 - accuracy: 0.6342 - val_loss: 0.8792 - val_accuracy: 0.6393\n",
      "Epoch 2/100\n",
      "2188/2188 - 34s - loss: 0.8686 - accuracy: 0.6435 - val_loss: 0.8887 - val_accuracy: 0.6406\n",
      "Epoch 3/100\n",
      "2188/2188 - 33s - loss: 0.8492 - accuracy: 0.6490 - val_loss: 0.8754 - val_accuracy: 0.6391\n",
      "Epoch 4/100\n",
      "2188/2188 - 33s - loss: 0.8409 - accuracy: 0.6564 - val_loss: 0.8362 - val_accuracy: 0.6652\n",
      "Epoch 5/100\n",
      "2188/2188 - 33s - loss: 0.8095 - accuracy: 0.6752 - val_loss: 0.8591 - val_accuracy: 0.6415\n",
      "Epoch 6/100\n",
      "2188/2188 - 33s - loss: 0.8017 - accuracy: 0.6749 - val_loss: 0.8292 - val_accuracy: 0.6620\n",
      "Epoch 7/100\n",
      "2188/2188 - 34s - loss: 0.7884 - accuracy: 0.6794 - val_loss: 0.8440 - val_accuracy: 0.6344\n",
      "Epoch 8/100\n",
      "2188/2188 - 34s - loss: 0.7539 - accuracy: 0.6978 - val_loss: 0.8415 - val_accuracy: 0.6641\n",
      "Epoch 9/100\n",
      "2188/2188 - 36s - loss: 0.7663 - accuracy: 0.7012 - val_loss: 0.8663 - val_accuracy: 0.6644\n",
      "Epoch 10/100\n",
      "2188/2188 - 38s - loss: 0.7645 - accuracy: 0.7100 - val_loss: 0.9321 - val_accuracy: 0.6333\n",
      "Epoch 11/100\n",
      "2188/2188 - 34s - loss: 0.7818 - accuracy: 0.6979 - val_loss: 0.9344 - val_accuracy: 0.6401\n",
      "Epoch 12/100\n",
      "2188/2188 - 33s - loss: 0.7529 - accuracy: 0.7111 - val_loss: 0.9444 - val_accuracy: 0.6456\n",
      "Epoch 13/100\n",
      "2188/2188 - 35s - loss: 0.7441 - accuracy: 0.7102 - val_loss: 0.8987 - val_accuracy: 0.6592\n",
      "Epoch 14/100\n",
      "2188/2188 - 38s - loss: 0.6862 - accuracy: 0.7319 - val_loss: 0.9100 - val_accuracy: 0.6432\n",
      "Epoch 15/100\n",
      "2188/2188 - 36s - loss: 0.6917 - accuracy: 0.7310 - val_loss: 0.9761 - val_accuracy: 0.6453\n",
      "Epoch 16/100\n",
      "2188/2188 - 37s - loss: 0.6779 - accuracy: 0.7374 - val_loss: 0.9934 - val_accuracy: 0.6425\n",
      "2188/2188 [==============================] - 10s 4ms/step - loss: 0.6860 - accuracy: 0.7375\n",
      "938/938 [==============================] - 5s 6ms/step - loss: 0.9934 - accuracy: 0.6425\n"
     ]
    },
    {
     "data": {
      "image/png": "[encoded data removed]",
      "text/plain": [
       "<Figure size 432x288 with 1 Axes>"
      ]
     },
     "metadata": {
      "needs_background": "light"
     },
     "output_type": "display_data"
    }
   ],
   "source": [
    "#Define\n",
    "\n",
    "model = Sequential()\n",
    "model.add(Embedding(vocab_size, 32, input_length=word_len))\n",
    "model.add(SimpleRNN(32))\n",
    "model.add(Dense(16, activation = 'sigmoid'))\n",
    "model.add(Dense(3, activation = 'softmax'))\n",
    "\n",
    "#Compile\n",
    "\n",
    "model.compile(optimizer = 'adam', loss = 'sparse_categorical_crossentropy', metrics = ['accuracy'])\n",
    "\n",
    "#Fit\n",
    "es = EarlyStopping(monitor = 'val_loss', patience=10)\n",
    "history = model.fit(x_train, y_train, validation_data = (x_test, y_test), \n",
    "                    epochs=100, batch_size=32, verbose=2, callbacks = [es])\n",
    "\n",
    "#Evaluate\n",
    "loss_train, acc_train = model.evaluate(x_train, y_train)\n",
    "loss_test, acc_test = model.evaluate(x_test, y_test)\n",
    "\n",
    "#Plot the learning curve\n",
    "plt.plot(history.history['accuracy'])\n",
    "plt.plot(history.history['val_accuracy'])\n",
    "plt.legend(['Train Accuracy', 'Test Accuracy'])\n",
    "plt.show()"
   ]
  },
  {
   "cell_type": "code",
   "execution_count": null,
   "metadata": {},
   "outputs": [],
   "source": []
  },
  {
   "cell_type": "code",
   "execution_count": 44,
   "metadata": {},
   "outputs": [],
   "source": [
    "#4.2.2. LSTM"
   ]
  },
  {
   "cell_type": "code",
   "execution_count": 47,
   "metadata": {},
   "outputs": [
    {
     "name": "stdout",
     "output_type": "stream",
     "text": [
      "Epoch 1/100\n",
      "2188/2188 - 51s - loss: 0.8128 - accuracy: 0.6856 - val_loss: 0.7019 - val_accuracy: 0.7137\n",
      "Epoch 2/100\n",
      "2188/2188 - 50s - loss: 0.6653 - accuracy: 0.7304 - val_loss: 0.6889 - val_accuracy: 0.7218\n",
      "Epoch 3/100\n",
      "2188/2188 - 51s - loss: 0.6183 - accuracy: 0.7540 - val_loss: 0.6756 - val_accuracy: 0.7273\n",
      "Epoch 4/100\n",
      "2188/2188 - 54s - loss: 0.5807 - accuracy: 0.7734 - val_loss: 0.6832 - val_accuracy: 0.7260\n",
      "Epoch 5/100\n",
      "2188/2188 - 49s - loss: 0.5521 - accuracy: 0.7879 - val_loss: 0.7036 - val_accuracy: 0.7285\n",
      "Epoch 6/100\n",
      "2188/2188 - 48s - loss: 0.5226 - accuracy: 0.8056 - val_loss: 0.7560 - val_accuracy: 0.7349\n",
      "Epoch 7/100\n",
      "2188/2188 - 48s - loss: 0.4987 - accuracy: 0.8178 - val_loss: 0.7165 - val_accuracy: 0.7285\n",
      "Epoch 8/100\n",
      "2188/2188 - 48s - loss: 0.4792 - accuracy: 0.8296 - val_loss: 0.7207 - val_accuracy: 0.7316\n",
      "Epoch 9/100\n",
      "2188/2188 - 48s - loss: 0.4580 - accuracy: 0.8423 - val_loss: 0.7467 - val_accuracy: 0.7269\n",
      "Epoch 10/100\n",
      "2188/2188 - 48s - loss: 0.4397 - accuracy: 0.8525 - val_loss: 0.7860 - val_accuracy: 0.7238\n",
      "Epoch 11/100\n",
      "2188/2188 - 50s - loss: 0.4239 - accuracy: 0.8614 - val_loss: 0.7979 - val_accuracy: 0.7277\n",
      "Epoch 12/100\n",
      "2188/2188 - 51s - loss: 0.4068 - accuracy: 0.8700 - val_loss: 0.8176 - val_accuracy: 0.7303\n",
      "Epoch 13/100\n",
      "2188/2188 - 49s - loss: 0.3963 - accuracy: 0.8746 - val_loss: 0.7713 - val_accuracy: 0.7140\n",
      "2188/2188 [==============================] - 11s 5ms/step - loss: 0.4600 - accuracy: 0.8323\n",
      "938/938 [==============================] - 5s 5ms/step - loss: 0.7713 - accuracy: 0.7140\n"
     ]
    },
    {
     "data": {
      "image/png": "[encoded data removed]",
      "text/plain": [
       "<Figure size 432x288 with 1 Axes>"
      ]
     },
     "metadata": {
      "needs_background": "light"
     },
     "output_type": "display_data"
    }
   ],
   "source": [
    "#Define\n",
    "\n",
    "model = Sequential()\n",
    "model.add(Embedding(vocab_size, 32, input_length=word_len))\n",
    "model.add(LSTM(16))\n",
    "model.add(Dropout(0.3))\n",
    "model.add(Dense(16, activation = 'tanh', kernel_regularizer = 'l1'))\n",
    "model.add(Dense(3, activation = 'softmax'))\n",
    "\n",
    "#Compile\n",
    "\n",
    "model.compile(optimizer = 'adam', loss = 'sparse_categorical_crossentropy', metrics = ['accuracy'])\n",
    "\n",
    "#Fit \n",
    "es = EarlyStopping(monitor = 'val_loss', patience=10)\n",
    "history = model.fit(x_train, y_train, validation_data = (x_test, y_test), \n",
    "                    epochs=100, batch_size=32, verbose=2, callbacks = [es])\n",
    "\n",
    "#Evaluate\n",
    "loss_train, acc_train = model.evaluate(x_train, y_train)\n",
    "loss_test, acc_test = model.evaluate(x_test, y_test)\n",
    "\n",
    "#Plot the learning curve\n",
    "plt.plot(history.history['accuracy'])\n",
    "plt.plot(history.history['val_accuracy'])\n",
    "plt.legend(['Train Accuracy', 'Test Accuracy'])\n",
    "plt.show()"
   ]
  },
  {
   "cell_type": "code",
   "execution_count": null,
   "metadata": {},
   "outputs": [],
   "source": []
  },
  {
   "cell_type": "code",
   "execution_count": 48,
   "metadata": {},
   "outputs": [
    {
     "name": "stdout",
     "output_type": "stream",
     "text": [
      "Epoch 1/100\n",
      "2188/2188 - 49s - loss: 0.7434 - accuracy: 0.6983 - val_loss: 0.6641 - val_accuracy: 0.7184\n",
      "Epoch 2/100\n",
      "2188/2188 - 48s - loss: 0.6231 - accuracy: 0.7423 - val_loss: 0.6473 - val_accuracy: 0.7291\n",
      "Epoch 3/100\n",
      "2188/2188 - 48s - loss: 0.5732 - accuracy: 0.7699 - val_loss: 0.6424 - val_accuracy: 0.7392\n",
      "Epoch 4/100\n",
      "2188/2188 - 48s - loss: 0.5282 - accuracy: 0.7950 - val_loss: 0.6495 - val_accuracy: 0.7399\n",
      "Epoch 5/100\n",
      "2188/2188 - 48s - loss: 0.4918 - accuracy: 0.8131 - val_loss: 0.6477 - val_accuracy: 0.7400\n",
      "Epoch 6/100\n",
      "2188/2188 - 50s - loss: 0.4578 - accuracy: 0.8291 - val_loss: 0.6748 - val_accuracy: 0.7380\n",
      "Epoch 7/100\n",
      "2188/2188 - 48s - loss: 0.4288 - accuracy: 0.8422 - val_loss: 0.6869 - val_accuracy: 0.7386\n",
      "Epoch 8/100\n",
      "2188/2188 - 48s - loss: 0.4016 - accuracy: 0.8547 - val_loss: 0.7123 - val_accuracy: 0.7408\n",
      "Epoch 9/100\n",
      "2188/2188 - 48s - loss: 0.3775 - accuracy: 0.8655 - val_loss: 0.7487 - val_accuracy: 0.7377\n",
      "Epoch 10/100\n",
      "2188/2188 - 48s - loss: 0.3578 - accuracy: 0.8726 - val_loss: 0.8159 - val_accuracy: 0.7132\n",
      "Epoch 11/100\n",
      "2188/2188 - 51s - loss: 0.3377 - accuracy: 0.8813 - val_loss: 0.7997 - val_accuracy: 0.7276\n",
      "Epoch 12/100\n",
      "2188/2188 - 51s - loss: 0.3200 - accuracy: 0.8885 - val_loss: 0.8373 - val_accuracy: 0.7239\n",
      "Epoch 13/100\n",
      "2188/2188 - 51s - loss: 0.3004 - accuracy: 0.8968 - val_loss: 0.8945 - val_accuracy: 0.7167\n",
      "2188/2188 [==============================] - 12s 5ms/step - loss: 0.2531 - accuracy: 0.9122\n",
      "938/938 [==============================] - 5s 6ms/step - loss: 0.8945 - accuracy: 0.7167\n"
     ]
    },
    {
     "data": {
      "image/png": "[encoded data removed]",
      "text/plain": [
       "<Figure size 432x288 with 1 Axes>"
      ]
     },
     "metadata": {
      "needs_background": "light"
     },
     "output_type": "display_data"
    }
   ],
   "source": [
    "#Define\n",
    "\n",
    "model = Sequential()\n",
    "model.add(Embedding(vocab_size, 32, input_length=word_len))\n",
    "model.add(LSTM(16))\n",
    "model.add(Dropout(0.3))\n",
    "model.add(Dense(16, activation = 'tanh', kernel_regularizer = 'l2'))\n",
    "model.add(Dense(3, activation = 'softmax'))\n",
    "\n",
    "#Compile\n",
    "\n",
    "model.compile(optimizer = 'adam', loss = 'sparse_categorical_crossentropy', metrics = ['accuracy'])\n",
    "\n",
    "#Fit \n",
    "es = EarlyStopping(monitor = 'val_loss', patience=10)\n",
    "history = model.fit(x_train, y_train, validation_data = (x_test, y_test), \n",
    "                    epochs=100, batch_size=32, verbose=2, callbacks = [es])\n",
    "\n",
    "#Evaluate\n",
    "loss_train, acc_train = model.evaluate(x_train, y_train)\n",
    "loss_test, acc_test = model.evaluate(x_test, y_test)\n",
    "\n",
    "#Plot the learning curve\n",
    "plt.plot(history.history['accuracy'])\n",
    "plt.plot(history.history['val_accuracy'])\n",
    "plt.legend(['Train Accuracy', 'Test Accuracy'])\n",
    "plt.show()"
   ]
  },
  {
   "cell_type": "code",
   "execution_count": null,
   "metadata": {},
   "outputs": [],
   "source": []
  },
  {
   "cell_type": "code",
   "execution_count": 51,
   "metadata": {},
   "outputs": [
    {
     "name": "stdout",
     "output_type": "stream",
     "text": [
      "Epoch 1/100\n",
      "2188/2188 - 60s - loss: 0.9372 - accuracy: 0.6404 - val_loss: 0.8786 - val_accuracy: 0.6393\n",
      "Epoch 2/100\n",
      "2188/2188 - 59s - loss: 0.8685 - accuracy: 0.6402 - val_loss: 0.8495 - val_accuracy: 0.6393\n",
      "Epoch 3/100\n",
      "2188/2188 - 58s - loss: 0.8637 - accuracy: 0.6389 - val_loss: 0.8570 - val_accuracy: 0.6393\n",
      "Epoch 4/100\n",
      "2188/2188 - 58s - loss: 0.8679 - accuracy: 0.6400 - val_loss: 0.8675 - val_accuracy: 0.6393\n",
      "Epoch 5/100\n",
      "2188/2188 - 58s - loss: 0.8303 - accuracy: 0.6485 - val_loss: 0.8044 - val_accuracy: 0.6883\n",
      "Epoch 6/100\n",
      "2188/2188 - 61s - loss: 0.7831 - accuracy: 0.6877 - val_loss: 0.7432 - val_accuracy: 0.6974\n",
      "Epoch 7/100\n",
      "2188/2188 - 59s - loss: 0.7472 - accuracy: 0.6958 - val_loss: 0.7195 - val_accuracy: 0.6931\n",
      "Epoch 8/100\n",
      "2188/2188 - 58s - loss: 0.7115 - accuracy: 0.7049 - val_loss: 0.7025 - val_accuracy: 0.7087\n",
      "Epoch 9/100\n",
      "2188/2188 - 58s - loss: 0.6689 - accuracy: 0.7257 - val_loss: 0.6957 - val_accuracy: 0.7164\n",
      "Epoch 10/100\n",
      "2188/2188 - 60s - loss: 0.6426 - accuracy: 0.7377 - val_loss: 0.7111 - val_accuracy: 0.7121\n",
      "Epoch 11/100\n",
      "2188/2188 - 58s - loss: 0.6215 - accuracy: 0.7495 - val_loss: 0.7157 - val_accuracy: 0.7175\n",
      "Epoch 12/100\n",
      "2188/2188 - 58s - loss: 0.6004 - accuracy: 0.7624 - val_loss: 0.7216 - val_accuracy: 0.7166\n",
      "Epoch 13/100\n",
      "2188/2188 - 59s - loss: 0.5928 - accuracy: 0.7668 - val_loss: 0.7359 - val_accuracy: 0.7127\n",
      "Epoch 14/100\n",
      "2188/2188 - 60s - loss: 0.5710 - accuracy: 0.7791 - val_loss: 0.7579 - val_accuracy: 0.7158\n",
      "Epoch 15/100\n",
      "2188/2188 - 58s - loss: 0.5583 - accuracy: 0.7878 - val_loss: 0.7716 - val_accuracy: 0.7188\n",
      "Epoch 16/100\n",
      "2188/2188 - 60s - loss: 0.5450 - accuracy: 0.7948 - val_loss: 0.7494 - val_accuracy: 0.7092\n",
      "Epoch 17/100\n",
      "2188/2188 - 58s - loss: 0.5224 - accuracy: 0.8085 - val_loss: 0.7813 - val_accuracy: 0.7178\n",
      "Epoch 18/100\n",
      "2188/2188 - 58s - loss: 0.5052 - accuracy: 0.8193 - val_loss: 0.7985 - val_accuracy: 0.7224\n",
      "Epoch 19/100\n",
      "2188/2188 - 59s - loss: 0.4851 - accuracy: 0.8313 - val_loss: 0.7817 - val_accuracy: 0.7139\n",
      "2188/2188 [==============================] - 13s 6ms/step - loss: 0.4428 - accuracy: 0.8560\n",
      "938/938 [==============================] - 6s 6ms/step - loss: 0.7817 - accuracy: 0.7139\n"
     ]
    },
    {
     "data": {
      "image/png": "[encoded data removed]",
      "text/plain": [
       "<Figure size 432x288 with 1 Axes>"
      ]
     },
     "metadata": {
      "needs_background": "light"
     },
     "output_type": "display_data"
    }
   ],
   "source": [
    "#Define\n",
    "\n",
    "model = Sequential()\n",
    "model.add(Embedding(vocab_size, 64, input_length=word_len))\n",
    "model.add(LSTM(32))\n",
    "model.add(Dropout(0.5))\n",
    "model.add(Dense(32, activation = 'tanh', kernel_regularizer = 'l2'))\n",
    "model.add(Dropout(0.5))\n",
    "model.add(Dense(16, activation = 'tanh', kernel_regularizer = 'l2'))\n",
    "model.add(Dropout(0.5))\n",
    "model.add(Dense(8, activation = 'tanh', kernel_regularizer = 'l2'))\n",
    "model.add(Dense(3, activation = 'softmax'))\n",
    "\n",
    "#Compile\n",
    "\n",
    "model.compile(optimizer = 'adam', loss = 'sparse_categorical_crossentropy', metrics = ['accuracy'])\n",
    "\n",
    "#Fit \n",
    "es = EarlyStopping(monitor = 'val_loss', patience=10)\n",
    "history = model.fit(x_train, y_train, validation_data = (x_test, y_test), \n",
    "                    epochs=100, batch_size=32, verbose=2, callbacks = [es])\n",
    "\n",
    "#Evaluate\n",
    "loss_train, acc_train = model.evaluate(x_train, y_train)\n",
    "loss_test, acc_test = model.evaluate(x_test, y_test)\n",
    "\n",
    "#Plot the learning curve\n",
    "plt.plot(history.history['accuracy'])\n",
    "plt.plot(history.history['val_accuracy'])\n",
    "plt.legend(['Train Accuracy', 'Test Accuracy'])\n",
    "plt.show()"
   ]
  },
  {
   "cell_type": "code",
   "execution_count": null,
   "metadata": {},
   "outputs": [],
   "source": []
  },
  {
   "cell_type": "code",
   "execution_count": null,
   "metadata": {},
   "outputs": [],
   "source": [
    "#4.2.3. Bidirectional wrapped with LSTM"
   ]
  },
  {
   "cell_type": "code",
   "execution_count": 53,
   "metadata": {},
   "outputs": [
    {
     "name": "stdout",
     "output_type": "stream",
     "text": [
      "Epoch 1/100\n",
      "2188/2188 - 57s - loss: 0.7256 - accuracy: 0.7031 - val_loss: 0.6455 - val_accuracy: 0.7381\n",
      "Epoch 2/100\n",
      "2188/2188 - 55s - loss: 0.5977 - accuracy: 0.7605 - val_loss: 0.6285 - val_accuracy: 0.7462\n",
      "Epoch 3/100\n",
      "2188/2188 - 54s - loss: 0.5497 - accuracy: 0.7833 - val_loss: 0.6302 - val_accuracy: 0.7493\n",
      "Epoch 4/100\n",
      "2188/2188 - 56s - loss: 0.5106 - accuracy: 0.8021 - val_loss: 0.6335 - val_accuracy: 0.7468\n",
      "Epoch 5/100\n",
      "2188/2188 - 55s - loss: 0.4743 - accuracy: 0.8193 - val_loss: 0.6718 - val_accuracy: 0.7447\n",
      "Epoch 6/100\n",
      "2188/2188 - 56s - loss: 0.4420 - accuracy: 0.8330 - val_loss: 0.6865 - val_accuracy: 0.7407\n",
      "Epoch 7/100\n",
      "2188/2188 - 56s - loss: 0.4117 - accuracy: 0.8444 - val_loss: 0.7532 - val_accuracy: 0.7399\n",
      "Epoch 8/100\n",
      "2188/2188 - 56s - loss: 0.3852 - accuracy: 0.8565 - val_loss: 0.7434 - val_accuracy: 0.7403\n",
      "Epoch 9/100\n",
      "2188/2188 - 56s - loss: 0.3637 - accuracy: 0.8650 - val_loss: 0.7849 - val_accuracy: 0.7404\n",
      "Epoch 10/100\n",
      "2188/2188 - 56s - loss: 0.3396 - accuracy: 0.8739 - val_loss: 0.8120 - val_accuracy: 0.7342\n",
      "Epoch 11/100\n",
      "2188/2188 - 55s - loss: 0.3229 - accuracy: 0.8813 - val_loss: 0.8580 - val_accuracy: 0.7320\n",
      "Epoch 12/100\n",
      "2188/2188 - 56s - loss: 0.3016 - accuracy: 0.8901 - val_loss: 0.8558 - val_accuracy: 0.7289\n",
      "2188/2188 [==============================] - 13s 6ms/step - loss: 0.2592 - accuracy: 0.9119\n",
      "938/938 [==============================] - 7s 8ms/step - loss: 0.8558 - accuracy: 0.7289\n"
     ]
    },
    {
     "data": {
      "image/png": "[encoded data removed]",
      "text/plain": [
       "<Figure size 432x288 with 1 Axes>"
      ]
     },
     "metadata": {
      "needs_background": "light"
     },
     "output_type": "display_data"
    }
   ],
   "source": [
    "#Define\n",
    "\n",
    "model = Sequential()\n",
    "model.add(Embedding(vocab_size, 32, input_length=word_len))\n",
    "model.add(Bidirectional(LSTM(16)))\n",
    "model.add(Dropout(0.3))\n",
    "model.add(Dense(16, activation = 'tanh', kernel_regularizer = 'l2'))\n",
    "model.add(Dense(3, activation = 'softmax'))\n",
    "\n",
    "#Compile\n",
    "\n",
    "model.compile(optimizer = 'adam', loss = 'sparse_categorical_crossentropy', metrics = ['accuracy'])\n",
    "\n",
    "#Fit \n",
    "es = EarlyStopping(monitor = 'val_loss', patience=10)\n",
    "history = model.fit(x_train, y_train, validation_data = (x_test, y_test), \n",
    "                    epochs=100, batch_size=32, verbose=2, callbacks = [es])\n",
    "\n",
    "#Evaluate\n",
    "loss_train, acc_train = model.evaluate(x_train, y_train)\n",
    "loss_test, acc_test = model.evaluate(x_test, y_test)\n",
    "\n",
    "#Plot the learning curve\n",
    "plt.plot(history.history['accuracy'])\n",
    "plt.plot(history.history['val_accuracy'])\n",
    "plt.legend(['Train Accuracy', 'Test Accuracy'])\n",
    "plt.show()"
   ]
  },
  {
   "cell_type": "code",
   "execution_count": null,
   "metadata": {},
   "outputs": [],
   "source": []
  },
  {
   "cell_type": "code",
   "execution_count": null,
   "metadata": {},
   "outputs": [],
   "source": []
  },
  {
   "cell_type": "code",
   "execution_count": null,
   "metadata": {},
   "outputs": [],
   "source": []
  }
 ],
 "metadata": {
  "kernelspec": {
   "display_name": "Python 3",
   "language": "python",
   "name": "python3"
  },
  "language_info": {
   "codemirror_mode": {
    "name": "ipython",
    "version": 3
   },
   "file_extension": ".py",
   "mimetype": "text/x-python",
   "name": "python",
   "nbconvert_exporter": "python",
   "pygments_lexer": "ipython3",
   "version": "3.7.6"
  }
 },
 "nbformat": 4,
 "nbformat_minor": 4
}
